{
 "cells": [
  {
   "cell_type": "markdown",
   "metadata": {},
   "source": [
    "# Linear Regression Multiple Ways"
   ]
  },
  {
   "cell_type": "code",
   "execution_count": 1,
   "metadata": {},
   "outputs": [],
   "source": [
    "from sklearn.datasets import make_regression\n",
    "import numpy as np\n",
    "import matplotlib.pyplot as plt\n",
    "#code adapted from http://tillbergmann.com/blog/python-gradient-descent.html\n",
    "X, y, coef = make_regression(n_samples = 100, \n",
    "                       n_features=1, \n",
    "                       noise=20,\n",
    "                       random_state=2017,\n",
    "                       coef=True)"
   ]
  },
  {
   "cell_type": "code",
   "execution_count": 2,
   "metadata": {},
   "outputs": [
    {
     "data": {
      "text/plain": [
       "array(80.88336208)"
      ]
     },
     "execution_count": 2,
     "metadata": {},
     "output_type": "execute_result"
    }
   ],
   "source": [
    "coef"
   ]
  },
  {
   "cell_type": "code",
   "execution_count": 3,
   "metadata": {},
   "outputs": [
    {
     "data": {
      "text/plain": [
       "((100, 1), (100,))"
      ]
     },
     "execution_count": 3,
     "metadata": {},
     "output_type": "execute_result"
    }
   ],
   "source": [
    "X.shape, y.shape"
   ]
  },
  {
   "cell_type": "code",
   "execution_count": 5,
   "metadata": {},
   "outputs": [
    {
     "data": {
      "text/plain": [
       "array([[ 0.03225343],\n",
       "       [-0.43717257],\n",
       "       [-0.14039799],\n",
       "       [-0.28942671],\n",
       "       [-1.43048995],\n",
       "       [-0.86109055],\n",
       "       [-0.95908022],\n",
       "       [-0.52824237],\n",
       "       [-0.18007786],\n",
       "       [ 1.81894788],\n",
       "       [-1.50157469],\n",
       "       [ 1.07524045],\n",
       "       [-0.53757079],\n",
       "       [-0.33654744],\n",
       "       [-0.69333384],\n",
       "       [ 0.18613021],\n",
       "       [-0.35285906],\n",
       "       [-0.59573347],\n",
       "       [-0.95284841],\n",
       "       [ 1.37214258],\n",
       "       [-1.00148098],\n",
       "       [ 0.59405599],\n",
       "       [ 1.98893004],\n",
       "       [-0.84764818],\n",
       "       [ 0.21276995],\n",
       "       [-0.86352344],\n",
       "       [-0.44574656],\n",
       "       [-1.08669572],\n",
       "       [ 0.88578638],\n",
       "       [-0.39457786],\n",
       "       [-0.75808346],\n",
       "       [ 0.21445342],\n",
       "       [-0.91772873],\n",
       "       [ 1.18192126],\n",
       "       [-1.23456807],\n",
       "       [ 1.51028721],\n",
       "       [ 0.36908201],\n",
       "       [ 0.07800759],\n",
       "       [ 0.92827925],\n",
       "       [ 0.91180261],\n",
       "       [ 0.50541435],\n",
       "       [ 0.39476163],\n",
       "       [-1.40727442],\n",
       "       [ 1.33682587],\n",
       "       [ 0.28914398],\n",
       "       [ 0.10784411],\n",
       "       [-0.48610801],\n",
       "       [-1.01412413],\n",
       "       [-0.99058644],\n",
       "       [-0.81726253],\n",
       "       [ 1.19533418],\n",
       "       [ 1.39334529],\n",
       "       [-0.55307527],\n",
       "       [ 1.31181742],\n",
       "       [-0.20875222],\n",
       "       [ 0.02615138],\n",
       "       [ 0.03133165],\n",
       "       [-0.85845574],\n",
       "       [-0.09592554],\n",
       "       [ 0.57347598],\n",
       "       [ 0.88361674],\n",
       "       [-0.27481173],\n",
       "       [-0.89590558],\n",
       "       [-1.02294529],\n",
       "       [ 1.44454617],\n",
       "       [ 0.74268098],\n",
       "       [-0.55325354],\n",
       "       [ 0.46630994],\n",
       "       [ 0.81253433],\n",
       "       [-0.38342089],\n",
       "       [ 1.14773859],\n",
       "       [ 0.19909227],\n",
       "       [-0.09843773],\n",
       "       [-0.39285043],\n",
       "       [ 1.20320029],\n",
       "       [-1.56386788],\n",
       "       [-0.724668  ],\n",
       "       [-0.84860918],\n",
       "       [-0.22007928],\n",
       "       [-0.73312349],\n",
       "       [-0.44412137],\n",
       "       [ 1.23233384],\n",
       "       [-0.48253414],\n",
       "       [ 0.6770562 ],\n",
       "       [ 0.89574884],\n",
       "       [-0.01124513],\n",
       "       [-0.520261  ],\n",
       "       [-2.20268367],\n",
       "       [ 1.20129796],\n",
       "       [-0.74358543],\n",
       "       [-0.70954338],\n",
       "       [-0.19933591],\n",
       "       [-1.08933018],\n",
       "       [ 0.78779876],\n",
       "       [ 0.14851281],\n",
       "       [-0.59370289],\n",
       "       [ 0.44482146],\n",
       "       [ 2.42038368],\n",
       "       [ 0.67422499],\n",
       "       [ 0.02184234]])"
      ]
     },
     "execution_count": 5,
     "metadata": {},
     "output_type": "execute_result"
    }
   ],
   "source": [
    "X"
   ]
  },
  {
   "cell_type": "code",
   "execution_count": 6,
   "metadata": {},
   "outputs": [
    {
     "data": {
      "text/plain": [
       "array([ 0.03225343, -0.43717257, -0.14039799, -0.28942671, -1.43048995,\n",
       "       -0.86109055, -0.95908022, -0.52824237, -0.18007786,  1.81894788,\n",
       "       -1.50157469,  1.07524045, -0.53757079, -0.33654744, -0.69333384,\n",
       "        0.18613021, -0.35285906, -0.59573347, -0.95284841,  1.37214258,\n",
       "       -1.00148098,  0.59405599,  1.98893004, -0.84764818,  0.21276995,\n",
       "       -0.86352344, -0.44574656, -1.08669572,  0.88578638, -0.39457786,\n",
       "       -0.75808346,  0.21445342, -0.91772873,  1.18192126, -1.23456807,\n",
       "        1.51028721,  0.36908201,  0.07800759,  0.92827925,  0.91180261,\n",
       "        0.50541435,  0.39476163, -1.40727442,  1.33682587,  0.28914398,\n",
       "        0.10784411, -0.48610801, -1.01412413, -0.99058644, -0.81726253,\n",
       "        1.19533418,  1.39334529, -0.55307527,  1.31181742, -0.20875222,\n",
       "        0.02615138,  0.03133165, -0.85845574, -0.09592554,  0.57347598,\n",
       "        0.88361674, -0.27481173, -0.89590558, -1.02294529,  1.44454617,\n",
       "        0.74268098, -0.55325354,  0.46630994,  0.81253433, -0.38342089,\n",
       "        1.14773859,  0.19909227, -0.09843773, -0.39285043,  1.20320029,\n",
       "       -1.56386788, -0.724668  , -0.84860918, -0.22007928, -0.73312349,\n",
       "       -0.44412137,  1.23233384, -0.48253414,  0.6770562 ,  0.89574884,\n",
       "       -0.01124513, -0.520261  , -2.20268367,  1.20129796, -0.74358543,\n",
       "       -0.70954338, -0.19933591, -1.08933018,  0.78779876,  0.14851281,\n",
       "       -0.59370289,  0.44482146,  2.42038368,  0.67422499,  0.02184234])"
      ]
     },
     "execution_count": 6,
     "metadata": {},
     "output_type": "execute_result"
    }
   ],
   "source": [
    "X.flatten()"
   ]
  },
  {
   "cell_type": "code",
   "execution_count": 7,
   "metadata": {},
   "outputs": [
    {
     "data": {
      "text/plain": [
       "((100,), (100, 1))"
      ]
     },
     "execution_count": 7,
     "metadata": {},
     "output_type": "execute_result"
    }
   ],
   "source": [
    "x = X.flatten()\n",
    "Y = y.reshape(-1,1)\n",
    "x.shape, Y.shape"
   ]
  },
  {
   "cell_type": "code",
   "execution_count": 8,
   "metadata": {},
   "outputs": [
    {
     "data": {
      "image/png": "[encoded data removed]",
      "text/plain": [
       "<Figure size 432x288 with 1 Axes>"
      ]
     },
     "metadata": {
      "needs_background": "light"
     },
     "output_type": "display_data"
    }
   ],
   "source": [
    "plt.plot(X,Y, 'o');"
   ]
  },
  {
   "cell_type": "code",
   "execution_count": 9,
   "metadata": {},
   "outputs": [
    {
     "data": {
      "image/png": "[encoded data removed]",
      "text/plain": [
       "<Figure size 432x288 with 1 Axes>"
      ]
     },
     "metadata": {
      "needs_background": "light"
     },
     "output_type": "display_data"
    }
   ],
   "source": [
    "plt.plot(x,y, 'o');"
   ]
  },
  {
   "cell_type": "code",
   "execution_count": 10,
   "metadata": {},
   "outputs": [],
   "source": [
    "xgrid = np.linspace(-2.5,2.5,1000)\n",
    "Xgrid = xgrid.reshape(-1,1)"
   ]
  },
  {
   "cell_type": "markdown",
   "metadata": {},
   "source": [
    "## Fit using sklearn"
   ]
  },
  {
   "cell_type": "code",
   "execution_count": 12,
   "metadata": {},
   "outputs": [],
   "source": [
    "from sklearn.linear_model import LinearRegression"
   ]
  },
  {
   "cell_type": "code",
   "execution_count": 14,
   "metadata": {},
   "outputs": [
    {
     "data": {
      "text/plain": [
       "(array([82.90456142]), -3.709228868670303)"
      ]
     },
     "execution_count": 14,
     "metadata": {},
     "output_type": "execute_result"
    }
   ],
   "source": [
    "lr = LinearRegression()\n",
    "lr.fit(X,y)\n",
    "ypgrid = lr.predict(Xgrid)\n",
    "lr.coef_, lr.intercept_"
   ]
  },
  {
   "cell_type": "code",
   "execution_count": 15,
   "metadata": {},
   "outputs": [
    {
     "data": {
      "text/plain": [
       "[<matplotlib.lines.Line2D at 0x7f4b425f60b8>]"
      ]
     },
     "execution_count": 15,
     "metadata": {},
     "output_type": "execute_result"
    },
    {
     "data": {
      "image/png": "[encoded data removed]",
      "text/plain": [
       "<Figure size 432x288 with 1 Axes>"
      ]
     },
     "metadata": {
      "needs_background": "light"
     },
     "output_type": "display_data"
    }
   ],
   "source": [
    "plt.plot(Xgrid, ypgrid)\n",
    "plt.plot(X, Y, '.')"
   ]
  },
  {
   "cell_type": "code",
   "execution_count": 16,
   "metadata": {},
   "outputs": [],
   "source": [
    "from sklearn.metrics import r2_score"
   ]
  },
  {
   "cell_type": "code",
   "execution_count": 18,
   "metadata": {},
   "outputs": [],
   "source": [
    "ypred = lr.predict(X)"
   ]
  },
  {
   "cell_type": "code",
   "execution_count": 19,
   "metadata": {},
   "outputs": [
    {
     "data": {
      "text/plain": [
       "0.9342344891672815"
      ]
     },
     "execution_count": 19,
     "metadata": {},
     "output_type": "execute_result"
    }
   ],
   "source": [
    "r2_score(y, ypred)"
   ]
  },
  {
   "cell_type": "code",
   "execution_count": 21,
   "metadata": {},
   "outputs": [
    {
     "data": {
      "text/plain": [
       "[<matplotlib.lines.Line2D at 0x7f4b40c1d588>]"
      ]
     },
     "execution_count": 21,
     "metadata": {},
     "output_type": "execute_result"
    },
    {
     "data": {
      "image/png": "[encoded data removed]",
      "text/plain": [
       "<Figure size 432x288 with 1 Axes>"
      ]
     },
     "metadata": {
      "needs_background": "light"
     },
     "output_type": "display_data"
    }
   ],
   "source": [
    "plt.plot(Xgrid, ypgrid)\n",
    "plt.plot(X, Y, 'o', alpha=0.3)\n",
    "plt.plot(x, ypred, 's', alpha=0.3)"
   ]
  },
  {
   "cell_type": "markdown",
   "metadata": {},
   "source": [
    "## Fit using statsmodels"
   ]
  },
  {
   "cell_type": "code",
   "execution_count": 23,
   "metadata": {},
   "outputs": [
    {
     "data": {
      "text/plain": [
       "array([[ 1.        ,  0.03225343],\n",
       "       [ 1.        , -0.43717257],\n",
       "       [ 1.        , -0.14039799],\n",
       "       [ 1.        , -0.28942671],\n",
       "       [ 1.        , -1.43048995],\n",
       "       [ 1.        , -0.86109055],\n",
       "       [ 1.        , -0.95908022],\n",
       "       [ 1.        , -0.52824237],\n",
       "       [ 1.        , -0.18007786],\n",
       "       [ 1.        ,  1.81894788],\n",
       "       [ 1.        , -1.50157469],\n",
       "       [ 1.        ,  1.07524045],\n",
       "       [ 1.        , -0.53757079],\n",
       "       [ 1.        , -0.33654744],\n",
       "       [ 1.        , -0.69333384],\n",
       "       [ 1.        ,  0.18613021],\n",
       "       [ 1.        , -0.35285906],\n",
       "       [ 1.        , -0.59573347],\n",
       "       [ 1.        , -0.95284841],\n",
       "       [ 1.        ,  1.37214258],\n",
       "       [ 1.        , -1.00148098],\n",
       "       [ 1.        ,  0.59405599],\n",
       "       [ 1.        ,  1.98893004],\n",
       "       [ 1.        , -0.84764818],\n",
       "       [ 1.        ,  0.21276995],\n",
       "       [ 1.        , -0.86352344],\n",
       "       [ 1.        , -0.44574656],\n",
       "       [ 1.        , -1.08669572],\n",
       "       [ 1.        ,  0.88578638],\n",
       "       [ 1.        , -0.39457786],\n",
       "       [ 1.        , -0.75808346],\n",
       "       [ 1.        ,  0.21445342],\n",
       "       [ 1.        , -0.91772873],\n",
       "       [ 1.        ,  1.18192126],\n",
       "       [ 1.        , -1.23456807],\n",
       "       [ 1.        ,  1.51028721],\n",
       "       [ 1.        ,  0.36908201],\n",
       "       [ 1.        ,  0.07800759],\n",
       "       [ 1.        ,  0.92827925],\n",
       "       [ 1.        ,  0.91180261],\n",
       "       [ 1.        ,  0.50541435],\n",
       "       [ 1.        ,  0.39476163],\n",
       "       [ 1.        , -1.40727442],\n",
       "       [ 1.        ,  1.33682587],\n",
       "       [ 1.        ,  0.28914398],\n",
       "       [ 1.        ,  0.10784411],\n",
       "       [ 1.        , -0.48610801],\n",
       "       [ 1.        , -1.01412413],\n",
       "       [ 1.        , -0.99058644],\n",
       "       [ 1.        , -0.81726253],\n",
       "       [ 1.        ,  1.19533418],\n",
       "       [ 1.        ,  1.39334529],\n",
       "       [ 1.        , -0.55307527],\n",
       "       [ 1.        ,  1.31181742],\n",
       "       [ 1.        , -0.20875222],\n",
       "       [ 1.        ,  0.02615138],\n",
       "       [ 1.        ,  0.03133165],\n",
       "       [ 1.        , -0.85845574],\n",
       "       [ 1.        , -0.09592554],\n",
       "       [ 1.        ,  0.57347598],\n",
       "       [ 1.        ,  0.88361674],\n",
       "       [ 1.        , -0.27481173],\n",
       "       [ 1.        , -0.89590558],\n",
       "       [ 1.        , -1.02294529],\n",
       "       [ 1.        ,  1.44454617],\n",
       "       [ 1.        ,  0.74268098],\n",
       "       [ 1.        , -0.55325354],\n",
       "       [ 1.        ,  0.46630994],\n",
       "       [ 1.        ,  0.81253433],\n",
       "       [ 1.        , -0.38342089],\n",
       "       [ 1.        ,  1.14773859],\n",
       "       [ 1.        ,  0.19909227],\n",
       "       [ 1.        , -0.09843773],\n",
       "       [ 1.        , -0.39285043],\n",
       "       [ 1.        ,  1.20320029],\n",
       "       [ 1.        , -1.56386788],\n",
       "       [ 1.        , -0.724668  ],\n",
       "       [ 1.        , -0.84860918],\n",
       "       [ 1.        , -0.22007928],\n",
       "       [ 1.        , -0.73312349],\n",
       "       [ 1.        , -0.44412137],\n",
       "       [ 1.        ,  1.23233384],\n",
       "       [ 1.        , -0.48253414],\n",
       "       [ 1.        ,  0.6770562 ],\n",
       "       [ 1.        ,  0.89574884],\n",
       "       [ 1.        , -0.01124513],\n",
       "       [ 1.        , -0.520261  ],\n",
       "       [ 1.        , -2.20268367],\n",
       "       [ 1.        ,  1.20129796],\n",
       "       [ 1.        , -0.74358543],\n",
       "       [ 1.        , -0.70954338],\n",
       "       [ 1.        , -0.19933591],\n",
       "       [ 1.        , -1.08933018],\n",
       "       [ 1.        ,  0.78779876],\n",
       "       [ 1.        ,  0.14851281],\n",
       "       [ 1.        , -0.59370289],\n",
       "       [ 1.        ,  0.44482146],\n",
       "       [ 1.        ,  2.42038368],\n",
       "       [ 1.        ,  0.67422499],\n",
       "       [ 1.        ,  0.02184234]])"
      ]
     },
     "execution_count": 23,
     "metadata": {},
     "output_type": "execute_result"
    }
   ],
   "source": [
    "import statsmodels.api as sm\n",
    "X_aug = sm.add_constant(X)\n",
    "X_aug"
   ]
  },
  {
   "cell_type": "code",
   "execution_count": 24,
   "metadata": {},
   "outputs": [
    {
     "data": {
      "text/html": [
       "<table class=\"simpletable\">\n",
       "<caption>OLS Regression Results</caption>\n",
       "<tr>\n",
       "  <th>Dep. Variable:</th>            <td>y</td>        <th>  R-squared:         </th> <td>   0.934</td>\n",
       "</tr>\n",
       "<tr>\n",
       "  <th>Model:</th>                   <td>OLS</td>       <th>  Adj. R-squared:    </th> <td>   0.934</td>\n",
       "</tr>\n",
       "<tr>\n",
       "  <th>Method:</th>             <td>Least Squares</td>  <th>  F-statistic:       </th> <td>   1392.</td>\n",
       "</tr>\n",
       "<tr>\n",
       "  <th>Date:</th>             <td>Fri, 17 May 2019</td> <th>  Prob (F-statistic):</th> <td>1.00e-59</td>\n",
       "</tr>\n",
       "<tr>\n",
       "  <th>Time:</th>                 <td>16:14:46</td>     <th>  Log-Likelihood:    </th> <td> -439.82</td>\n",
       "</tr>\n",
       "<tr>\n",
       "  <th>No. Observations:</th>      <td>   100</td>      <th>  AIC:               </th> <td>   883.6</td>\n",
       "</tr>\n",
       "<tr>\n",
       "  <th>Df Residuals:</th>          <td>    98</td>      <th>  BIC:               </th> <td>   888.8</td>\n",
       "</tr>\n",
       "<tr>\n",
       "  <th>Df Model:</th>              <td>     1</td>      <th>                     </th>     <td> </td>   \n",
       "</tr>\n",
       "<tr>\n",
       "  <th>Covariance Type:</th>      <td>nonrobust</td>    <th>                     </th>     <td> </td>   \n",
       "</tr>\n",
       "</table>\n",
       "<table class=\"simpletable\">\n",
       "<tr>\n",
       "    <td></td>       <th>coef</th>     <th>std err</th>      <th>t</th>      <th>P>|t|</th>  <th>[0.025</th>    <th>0.975]</th>  \n",
       "</tr>\n",
       "<tr>\n",
       "  <th>const</th> <td>   -3.7092</td> <td>    1.988</td> <td>   -1.866</td> <td> 0.065</td> <td>   -7.654</td> <td>    0.236</td>\n",
       "</tr>\n",
       "<tr>\n",
       "  <th>x1</th>    <td>   82.9046</td> <td>    2.222</td> <td>   37.311</td> <td> 0.000</td> <td>   78.495</td> <td>   87.314</td>\n",
       "</tr>\n",
       "</table>\n",
       "<table class=\"simpletable\">\n",
       "<tr>\n",
       "  <th>Omnibus:</th>       <td> 0.833</td> <th>  Durbin-Watson:     </th> <td>   2.054</td>\n",
       "</tr>\n",
       "<tr>\n",
       "  <th>Prob(Omnibus):</th> <td> 0.659</td> <th>  Jarque-Bera (JB):  </th> <td>   0.934</td>\n",
       "</tr>\n",
       "<tr>\n",
       "  <th>Skew:</th>          <td>-0.143</td> <th>  Prob(JB):          </th> <td>   0.627</td>\n",
       "</tr>\n",
       "<tr>\n",
       "  <th>Kurtosis:</th>      <td> 2.622</td> <th>  Cond. No.          </th> <td>    1.12</td>\n",
       "</tr>\n",
       "</table><br/><br/>Warnings:<br/>[1] Standard Errors assume that the covariance matrix of the errors is correctly specified."
      ],
      "text/plain": [
       "<class 'statsmodels.iolib.summary.Summary'>\n",
       "\"\"\"\n",
       "                            OLS Regression Results                            \n",
       "==============================================================================\n",
       "Dep. Variable:                      y   R-squared:                       0.934\n",
       "Model:                            OLS   Adj. R-squared:                  0.934\n",
       "Method:                 Least Squares   F-statistic:                     1392.\n",
       "Date:                Fri, 17 May 2019   Prob (F-statistic):           1.00e-59\n",
       "Time:                        16:14:46   Log-Likelihood:                -439.82\n",
       "No. Observations:                 100   AIC:                             883.6\n",
       "Df Residuals:                      98   BIC:                             888.8\n",
       "Df Model:                           1                                         \n",
       "Covariance Type:            nonrobust                                         \n",
       "==============================================================================\n",
       "                 coef    std err          t      P>|t|      [0.025      0.975]\n",
       "------------------------------------------------------------------------------\n",
       "const         -3.7092      1.988     -1.866      0.065      -7.654       0.236\n",
       "x1            82.9046      2.222     37.311      0.000      78.495      87.314\n",
       "==============================================================================\n",
       "Omnibus:                        0.833   Durbin-Watson:                   2.054\n",
       "Prob(Omnibus):                  0.659   Jarque-Bera (JB):                0.934\n",
       "Skew:                          -0.143   Prob(JB):                        0.627\n",
       "Kurtosis:                       2.622   Cond. No.                         1.12\n",
       "==============================================================================\n",
       "\n",
       "Warnings:\n",
       "[1] Standard Errors assume that the covariance matrix of the errors is correctly specified.\n",
       "\"\"\""
      ]
     },
     "execution_count": 24,
     "metadata": {},
     "output_type": "execute_result"
    }
   ],
   "source": [
    "import statsmodels.api as sm\n",
    "X_aug = sm.add_constant(X)\n",
    "lr2 = sm.OLS(y, X_aug)\n",
    "results = lr2.fit()\n",
    "results.summary()"
   ]
  },
  {
   "cell_type": "code",
   "execution_count": 25,
   "metadata": {},
   "outputs": [],
   "source": [
    "ypgrid_sm = results.predict(sm.add_constant(Xgrid))"
   ]
  },
  {
   "cell_type": "code",
   "execution_count": 26,
   "metadata": {},
   "outputs": [
    {
     "data": {
      "text/plain": [
       "[<matplotlib.lines.Line2D at 0x7f4b2fd06940>]"
      ]
     },
     "execution_count": 26,
     "metadata": {},
     "output_type": "execute_result"
    },
    {
     "data": {
      "image/png": "[encoded data removed]",
      "text/plain": [
       "<Figure size 432x288 with 1 Axes>"
      ]
     },
     "metadata": {
      "needs_background": "light"
     },
     "output_type": "display_data"
    }
   ],
   "source": [
    "plt.plot(Xgrid, ypgrid_sm)\n",
    "plt.plot(X, Y, '.')"
   ]
  },
  {
   "cell_type": "markdown",
   "metadata": {},
   "source": [
    "## Constructing a model with PyTorch\n",
    "\n",
    "Constructing a model with PyTorch is based on a design pattern with a fairly repeatable three step process:\n",
    "\n",
    "- Design your model (including relationships between your variables)\n",
    "    - Generally done by defining a subclass of torch.nn.Module\n",
    "- Construct your loss and optimizer\n",
    "- Train your model using your optimizer and forwards and backwards steps in your model"
   ]
  },
  {
   "cell_type": "code",
   "execution_count": 27,
   "metadata": {},
   "outputs": [
    {
     "name": "stdout",
     "output_type": "stream",
     "text": [
      "1.1.0\n"
     ]
    }
   ],
   "source": [
    "import torch\n",
    "print(torch.__version__)"
   ]
  },
  {
   "cell_type": "code",
   "execution_count": 28,
   "metadata": {},
   "outputs": [],
   "source": [
    "# from https://www.stefanfiott.com/machine-learning/tensors-and-gradients-in-pytorch/\n",
    "def tensor_properties(t, show_value=True):\n",
    "    print('Tensor properties:')\n",
    "    props = [('rank', t.dim()),\n",
    "             ('shape', t.size()),\n",
    "             ('data type', t.dtype),\n",
    "             ('tensor type', t.type())]\n",
    "    for s,v in props:\n",
    "        print('\\t{0:12}: {1}'.format(s,v))\n",
    "    if show_value:\n",
    "        #print('{0:12}: {1}'.format('value',t))\n",
    "        print(\"Value:\")\n",
    "        print(t)"
   ]
  },
  {
   "cell_type": "code",
   "execution_count": 29,
   "metadata": {},
   "outputs": [
    {
     "name": "stdout",
     "output_type": "stream",
     "text": [
      "Tensor properties:\n",
      "\trank        : 2\n",
      "\tshape       : torch.Size([100, 1])\n",
      "\tdata type   : torch.float32\n",
      "\ttensor type : torch.FloatTensor\n",
      "Value:\n",
      "tensor([[ 0.0323],\n",
      "        [-0.4372],\n",
      "        [-0.1404],\n",
      "        [-0.2894],\n",
      "        [-1.4305],\n",
      "        [-0.8611],\n",
      "        [-0.9591],\n",
      "        [-0.5282],\n",
      "        [-0.1801],\n",
      "        [ 1.8189],\n",
      "        [-1.5016],\n",
      "        [ 1.0752],\n",
      "        [-0.5376],\n",
      "        [-0.3365],\n",
      "        [-0.6933],\n",
      "        [ 0.1861],\n",
      "        [-0.3529],\n",
      "        [-0.5957],\n",
      "        [-0.9528],\n",
      "        [ 1.3721],\n",
      "        [-1.0015],\n",
      "        [ 0.5941],\n",
      "        [ 1.9889],\n",
      "        [-0.8476],\n",
      "        [ 0.2128],\n",
      "        [-0.8635],\n",
      "        [-0.4457],\n",
      "        [-1.0867],\n",
      "        [ 0.8858],\n",
      "        [-0.3946],\n",
      "        [-0.7581],\n",
      "        [ 0.2145],\n",
      "        [-0.9177],\n",
      "        [ 1.1819],\n",
      "        [-1.2346],\n",
      "        [ 1.5103],\n",
      "        [ 0.3691],\n",
      "        [ 0.0780],\n",
      "        [ 0.9283],\n",
      "        [ 0.9118],\n",
      "        [ 0.5054],\n",
      "        [ 0.3948],\n",
      "        [-1.4073],\n",
      "        [ 1.3368],\n",
      "        [ 0.2891],\n",
      "        [ 0.1078],\n",
      "        [-0.4861],\n",
      "        [-1.0141],\n",
      "        [-0.9906],\n",
      "        [-0.8173],\n",
      "        [ 1.1953],\n",
      "        [ 1.3933],\n",
      "        [-0.5531],\n",
      "        [ 1.3118],\n",
      "        [-0.2088],\n",
      "        [ 0.0262],\n",
      "        [ 0.0313],\n",
      "        [-0.8585],\n",
      "        [-0.0959],\n",
      "        [ 0.5735],\n",
      "        [ 0.8836],\n",
      "        [-0.2748],\n",
      "        [-0.8959],\n",
      "        [-1.0229],\n",
      "        [ 1.4445],\n",
      "        [ 0.7427],\n",
      "        [-0.5533],\n",
      "        [ 0.4663],\n",
      "        [ 0.8125],\n",
      "        [-0.3834],\n",
      "        [ 1.1477],\n",
      "        [ 0.1991],\n",
      "        [-0.0984],\n",
      "        [-0.3929],\n",
      "        [ 1.2032],\n",
      "        [-1.5639],\n",
      "        [-0.7247],\n",
      "        [-0.8486],\n",
      "        [-0.2201],\n",
      "        [-0.7331],\n",
      "        [-0.4441],\n",
      "        [ 1.2323],\n",
      "        [-0.4825],\n",
      "        [ 0.6771],\n",
      "        [ 0.8957],\n",
      "        [-0.0112],\n",
      "        [-0.5203],\n",
      "        [-2.2027],\n",
      "        [ 1.2013],\n",
      "        [-0.7436],\n",
      "        [-0.7095],\n",
      "        [-0.1993],\n",
      "        [-1.0893],\n",
      "        [ 0.7878],\n",
      "        [ 0.1485],\n",
      "        [-0.5937],\n",
      "        [ 0.4448],\n",
      "        [ 2.4204],\n",
      "        [ 0.6742],\n",
      "        [ 0.0218]])\n"
     ]
    }
   ],
   "source": [
    "import torch\n",
    "from torch.autograd import Variable\n",
    "\n",
    "X_data = torch.from_numpy(X).float()\n",
    "Y_data = torch.from_numpy(Y).float()\n",
    "\n",
    "tensor_properties(X_data)"
   ]
  },
  {
   "cell_type": "code",
   "execution_count": 30,
   "metadata": {},
   "outputs": [
    {
     "name": "stdout",
     "output_type": "stream",
     "text": [
      "Tensor properties:\n",
      "\trank        : 2\n",
      "\tshape       : torch.Size([100, 1])\n",
      "\tdata type   : torch.float32\n",
      "\ttensor type : torch.FloatTensor\n",
      "Value:\n",
      "tensor([[  11.5349],\n",
      "        [ -66.7810],\n",
      "        [  11.5418],\n",
      "        [ -45.4606],\n",
      "        [-130.5752],\n",
      "        [ -61.8035],\n",
      "        [ -78.8241],\n",
      "        [  -5.5203],\n",
      "        [ -30.2189],\n",
      "        [ 165.5526],\n",
      "        [-112.6469],\n",
      "        [ 106.9016],\n",
      "        [ -58.1097],\n",
      "        [   0.9378],\n",
      "        [ -43.6143],\n",
      "        [  26.9573],\n",
      "        [ -42.6695],\n",
      "        [ -57.1356],\n",
      "        [ -95.7962],\n",
      "        [ 118.3521],\n",
      "        [ -51.4373],\n",
      "        [  84.1988],\n",
      "        [ 131.2178],\n",
      "        [ -46.2952],\n",
      "        [  21.0677],\n",
      "        [ -94.2487],\n",
      "        [ -40.4418],\n",
      "        [ -88.6031],\n",
      "        [  55.9274],\n",
      "        [  -3.3100],\n",
      "        [ -74.7845],\n",
      "        [  20.5148],\n",
      "        [ -62.6764],\n",
      "        [  56.0346],\n",
      "        [-157.7788],\n",
      "        [ 143.0831],\n",
      "        [  15.3389],\n",
      "        [  -9.5979],\n",
      "        [  81.7474],\n",
      "        [  71.3214],\n",
      "        [  53.8740],\n",
      "        [  -0.6895],\n",
      "        [-141.9022],\n",
      "        [ 114.6682],\n",
      "        [  23.3021],\n",
      "        [  21.9901],\n",
      "        [ -35.2855],\n",
      "        [-129.8408],\n",
      "        [ -94.7423],\n",
      "        [ -75.8492],\n",
      "        [  83.6598],\n",
      "        [ 112.4409],\n",
      "        [ -55.5830],\n",
      "        [ 101.6197],\n",
      "        [ -19.9249],\n",
      "        [  29.3184],\n",
      "        [ -32.5978],\n",
      "        [ -68.4972],\n",
      "        [ -27.7854],\n",
      "        [   2.3416],\n",
      "        [  91.8524],\n",
      "        [ -18.6519],\n",
      "        [ -62.6568],\n",
      "        [-106.9113],\n",
      "        [  94.6765],\n",
      "        [  51.9529],\n",
      "        [ -50.9951],\n",
      "        [  18.2615],\n",
      "        [  51.0533],\n",
      "        [ -56.3496],\n",
      "        [  82.8058],\n",
      "        [  18.0186],\n",
      "        [  15.8309],\n",
      "        [ -19.8150],\n",
      "        [  82.3932],\n",
      "        [-140.8510],\n",
      "        [ -73.3056],\n",
      "        [ -56.3719],\n",
      "        [ -10.3616],\n",
      "        [ -48.9865],\n",
      "        [ -46.3352],\n",
      "        [  67.6031],\n",
      "        [ -53.7828],\n",
      "        [  72.4408],\n",
      "        [  83.2632],\n",
      "        [ -15.8270],\n",
      "        [ -27.6106],\n",
      "        [-196.5449],\n",
      "        [  79.2315],\n",
      "        [ -33.6597],\n",
      "        [ -64.8517],\n",
      "        [ -28.3828],\n",
      "        [ -91.9825],\n",
      "        [  56.1039],\n",
      "        [ -21.1864],\n",
      "        [ -88.0753],\n",
      "        [  66.1493],\n",
      "        [ 215.9303],\n",
      "        [  63.5057],\n",
      "        [  -4.9133]])\n"
     ]
    }
   ],
   "source": [
    "tensor_properties(Y_data)"
   ]
  },
  {
   "cell_type": "code",
   "execution_count": 31,
   "metadata": {},
   "outputs": [],
   "source": [
    "class Model(torch.nn.Module):\n",
    "\n",
    "    def __init__(self):\n",
    "        \"\"\"\n",
    "        In the constructor we instantiate nn.Linear module\n",
    "        \"\"\"\n",
    "        super(Model, self).__init__()\n",
    "        self.linear = torch.nn.Linear(1, 1)  # One in and one out\n",
    "\n",
    "    def forward(self, x):\n",
    "        y_pred = self.linear(x)\n",
    "        return y_pred"
   ]
  },
  {
   "cell_type": "code",
   "execution_count": 32,
   "metadata": {},
   "outputs": [],
   "source": [
    "# our model\n",
    "model = Model()"
   ]
  },
  {
   "cell_type": "code",
   "execution_count": 33,
   "metadata": {},
   "outputs": [],
   "source": [
    "# Construct our loss function and an Optimizer. The call to model.parameters()\n",
    "# in the SGD constructor will contain the learnable parameters of the \n",
    "# nn.Linear modules which are members of the model.\n",
    "criterion = torch.nn.MSELoss()\n",
    "optimizer = torch.optim.SGD(model.parameters(), lr=0.01)\n",
    "\n",
    "# Training loop\n",
    "accum = []\n",
    "for epoch in range(400):\n",
    "    \n",
    "    # Forward pass: Compute predicted y by passing x to the modela\n",
    "    \n",
    "    optimizer.zero_grad()\n",
    "    \n",
    "    Y_pred = model.forward(X_data)\n",
    "\n",
    "    # Compute and print loss\n",
    "    loss = criterion(Y_pred, Y_data)\n",
    "    accum.append(loss.item())\n",
    "    #print(loss.item())\n",
    "\n",
    "    # Zero gradients, perform a backward pass, and update the weights.\n",
    "    \n",
    "    loss.backward()\n",
    "    optimizer.step()"
   ]
  },
  {
   "cell_type": "code",
   "execution_count": 34,
   "metadata": {},
   "outputs": [],
   "source": [
    "# After training\n",
    "Xgrid_data = torch.from_numpy(Xgrid).float()\n",
    "Ypgrid_pytorch = model.forward(Xgrid_data)"
   ]
  },
  {
   "cell_type": "code",
   "execution_count": 35,
   "metadata": {
    "collapsed": true
   },
   "outputs": [
    {
     "data": {
      "text/plain": [
       "[<matplotlib.lines.Line2D at 0x7f4b27bda400>]"
      ]
     },
     "execution_count": 35,
     "metadata": {},
     "output_type": "execute_result"
    },
    {
     "data": {
      "image/png": "[encoded data removed]",
      "text/plain": [
       "<Figure size 432x288 with 1 Axes>"
      ]
     },
     "metadata": {
      "needs_background": "light"
     },
     "output_type": "display_data"
    }
   ],
   "source": [
    "%matplotlib inline\n",
    "import matplotlib.pyplot as plt\n",
    "plt.plot(accum)"
   ]
  },
  {
   "cell_type": "code",
   "execution_count": 37,
   "metadata": {},
   "outputs": [
    {
     "data": {
      "text/plain": [
       "[('linear.weight', Parameter containing:\n",
       "  tensor([[82.7726]], requires_grad=True)),\n",
       " ('linear.bias', Parameter containing:\n",
       "  tensor([-3.7213], requires_grad=True))]"
      ]
     },
     "execution_count": 37,
     "metadata": {},
     "output_type": "execute_result"
    }
   ],
   "source": [
    "list(model.named_parameters())"
   ]
  },
  {
   "cell_type": "code",
   "execution_count": 38,
   "metadata": {},
   "outputs": [
    {
     "data": {
      "text/plain": [
       "array(80.88336208)"
      ]
     },
     "execution_count": 38,
     "metadata": {},
     "output_type": "execute_result"
    }
   ],
   "source": [
    "coef"
   ]
  },
  {
   "cell_type": "code",
   "execution_count": 39,
   "metadata": {},
   "outputs": [
    {
     "data": {
      "text/plain": [
       "[<matplotlib.lines.Line2D at 0x7f4b27b85b38>]"
      ]
     },
     "execution_count": 39,
     "metadata": {},
     "output_type": "execute_result"
    },
    {
     "data": {
      "image/png": "[encoded data removed]",
      "text/plain": [
       "<Figure size 432x288 with 1 Axes>"
      ]
     },
     "metadata": {
      "needs_background": "light"
     },
     "output_type": "display_data"
    }
   ],
   "source": [
    "plt.plot(Xgrid, Ypgrid_pytorch.detach().numpy())\n",
    "plt.plot(X, Y, '.')"
   ]
  },
  {
   "cell_type": "code",
   "execution_count": null,
   "metadata": {},
   "outputs": [],
   "source": []
  }
 ],
 "metadata": {
  "anaconda-cloud": {},
  "kernelspec": {
   "display_name": "Python 3",
   "language": "python",
   "name": "python3"
  },
  "language_info": {
   "codemirror_mode": {
    "name": "ipython",
    "version": 3
   },
   "file_extension": ".py",
   "mimetype": "text/x-python",
   "name": "python",
   "nbconvert_exporter": "python",
   "pygments_lexer": "ipython3",
   "version": "3.7.3"
  },
  "nteract": {
   "version": "0.7.1"
  }
 },
 "nbformat": 4,
 "nbformat_minor": 2
}
